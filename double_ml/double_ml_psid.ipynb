{
 "cells": [
  {
   "cell_type": "code",
   "execution_count": 6,
   "metadata": {},
   "outputs": [],
   "source": [
    "import pandas as pd\n",
    "import numpy as np\n",
    "\n",
    "import matplotlib.pyplot as plt\n",
    "import seaborn as sns\n",
    "\n",
    "import patsy\n",
    "from sklearn.base import clone\n",
    "from sklearn.linear_model import LassoCV, LinearRegression, LogisticRegression\n",
    "from sklearn.ensemble import RandomForestClassifier, RandomForestRegressor\n",
    "\n",
    "import statsmodels.formula.api as smf\n",
    "from lightgbm import LGBMRegressor, LGBMClassifier\n",
    "from sklearn.model_selection import cross_val_predict\n",
    "\n",
    "pd.set_option('display.max_columns', 500)"
   ]
  },
  {
   "attachments": {},
   "cell_type": "markdown",
   "metadata": {},
   "source": [
    "# Data\n",
    "\n",
    "[dataset](https://users.nber.org/~rdehejia/nswdata2.html)"
   ]
  },
  {
   "cell_type": "code",
   "execution_count": 7,
   "metadata": {},
   "outputs": [
    {
     "data": {
      "text/html": [
       "<div>\n",
       "<style scoped>\n",
       "    .dataframe tbody tr th:only-of-type {\n",
       "        vertical-align: middle;\n",
       "    }\n",
       "\n",
       "    .dataframe tbody tr th {\n",
       "        vertical-align: top;\n",
       "    }\n",
       "\n",
       "    .dataframe thead th {\n",
       "        text-align: right;\n",
       "    }\n",
       "</style>\n",
       "<table border=\"1\" class=\"dataframe\">\n",
       "  <thead>\n",
       "    <tr style=\"text-align: right;\">\n",
       "      <th></th>\n",
       "      <th>treat</th>\n",
       "      <th>age</th>\n",
       "      <th>educ</th>\n",
       "      <th>black</th>\n",
       "      <th>hispan</th>\n",
       "      <th>married</th>\n",
       "      <th>nodegree</th>\n",
       "      <th>re75</th>\n",
       "      <th>re78</th>\n",
       "    </tr>\n",
       "  </thead>\n",
       "  <tbody>\n",
       "    <tr>\n",
       "      <th>0</th>\n",
       "      <td>0.0</td>\n",
       "      <td>23.0</td>\n",
       "      <td>10.0</td>\n",
       "      <td>1.0</td>\n",
       "      <td>0.0</td>\n",
       "      <td>0.0</td>\n",
       "      <td>1.0</td>\n",
       "      <td>0.0</td>\n",
       "      <td>0.00</td>\n",
       "    </tr>\n",
       "    <tr>\n",
       "      <th>1</th>\n",
       "      <td>0.0</td>\n",
       "      <td>26.0</td>\n",
       "      <td>12.0</td>\n",
       "      <td>0.0</td>\n",
       "      <td>0.0</td>\n",
       "      <td>0.0</td>\n",
       "      <td>0.0</td>\n",
       "      <td>0.0</td>\n",
       "      <td>12383.68</td>\n",
       "    </tr>\n",
       "    <tr>\n",
       "      <th>2</th>\n",
       "      <td>0.0</td>\n",
       "      <td>22.0</td>\n",
       "      <td>9.0</td>\n",
       "      <td>1.0</td>\n",
       "      <td>0.0</td>\n",
       "      <td>0.0</td>\n",
       "      <td>1.0</td>\n",
       "      <td>0.0</td>\n",
       "      <td>0.00</td>\n",
       "    </tr>\n",
       "  </tbody>\n",
       "</table>\n",
       "</div>"
      ],
      "text/plain": [
       "   treat   age  educ  black  hispan  married  nodegree  re75      re78\n",
       "0    0.0  23.0  10.0    1.0     0.0      0.0       1.0   0.0      0.00\n",
       "1    0.0  26.0  12.0    0.0     0.0      0.0       0.0   0.0  12383.68\n",
       "2    0.0  22.0   9.0    1.0     0.0      0.0       1.0   0.0      0.00"
      ]
     },
     "execution_count": 7,
     "metadata": {},
     "output_type": "execute_result"
    }
   ],
   "source": [
    "# Randomized Control Trial - Lalonde dataset\n",
    "rct_ctl = pd.read_csv('/Users/S/Desktop/projects/datasets/lalonde/nsw_control.txt', sep=' ', header=None)\n",
    "rct_ctl = rct_ctl.dropna(axis=1)\n",
    "rct_ctl.columns = ['treat', 'age', 'educ', 'black', 'hispan', 'married', 'nodegree', 're75', 're78']\n",
    "\n",
    "rct_trt = pd.read_csv('/Users/S/Desktop/projects/datasets/lalonde/nsw_treated.txt', sep=' ', header=None)\n",
    "rct_trt = rct_trt.dropna(axis=1)\n",
    "rct_trt.columns = ['treat', 'age', 'educ', 'black', 'hispan', 'married', 'nodegree', 're75', 're78']\n",
    "\n",
    "rct_df = pd.concat([rct_ctl, rct_trt]).reset_index(drop=True)\n",
    "rct_df.head(3)"
   ]
  },
  {
   "cell_type": "code",
   "execution_count": 8,
   "metadata": {},
   "outputs": [],
   "source": [
    "# Controls from PSID\n",
    "psid_ctl_1 = pd.read_csv('/Users/S/Desktop/projects/datasets/psid/psid_controls.txt', sep=' ', header=None)\n",
    "psid_ctl_1 = psid_ctl_1.dropna(axis=1)\n",
    "psid_ctl_1.columns = ['treat', 'age', 'educ', 'black', 'hispan', 'married', 'nodegree', 're74', 're75', 're78']\n",
    "\n",
    "psid_ctl_2 = pd.read_csv('/Users/S/Desktop/projects/datasets/psid/psid2_controls.txt', sep=' ', header=None)\n",
    "psid_ctl_2 = psid_ctl_2.dropna(axis=1)\n",
    "psid_ctl_2.columns = ['treat', 'age', 'educ', 'black', 'hispan', 'married', 'nodegree', 're74', 're75', 're78']\n",
    "\n",
    "psid_ctl_3 = pd.read_csv('/Users/S/Desktop/projects/datasets/psid/psid3_controls.txt', sep=' ', header=None)\n",
    "psid_ctl_3 = psid_ctl_3.dropna(axis=1)\n",
    "psid_ctl_3.columns = ['treat', 'age', 'educ', 'black', 'hispan', 'married', 'nodegree', 're74', 're75', 're78']\n",
    "\n",
    "psid_ctl = pd.concat([psid_ctl_1, psid_ctl_2, psid_ctl_3]).reset_index(drop=True)"
   ]
  },
  {
   "cell_type": "code",
   "execution_count": 9,
   "metadata": {},
   "outputs": [
    {
     "data": {
      "text/html": [
       "<div>\n",
       "<style scoped>\n",
       "    .dataframe tbody tr th:only-of-type {\n",
       "        vertical-align: middle;\n",
       "    }\n",
       "\n",
       "    .dataframe tbody tr th {\n",
       "        vertical-align: top;\n",
       "    }\n",
       "\n",
       "    .dataframe thead th {\n",
       "        text-align: right;\n",
       "    }\n",
       "</style>\n",
       "<table border=\"1\" class=\"dataframe\">\n",
       "  <thead>\n",
       "    <tr style=\"text-align: right;\">\n",
       "      <th></th>\n",
       "      <th>treat</th>\n",
       "      <th>age</th>\n",
       "      <th>educ</th>\n",
       "      <th>black</th>\n",
       "      <th>hispan</th>\n",
       "      <th>married</th>\n",
       "      <th>nodegree</th>\n",
       "      <th>re75</th>\n",
       "      <th>re78</th>\n",
       "    </tr>\n",
       "  </thead>\n",
       "  <tbody>\n",
       "    <tr>\n",
       "      <th>0</th>\n",
       "      <td>0.0</td>\n",
       "      <td>47.0</td>\n",
       "      <td>12.0</td>\n",
       "      <td>0.0</td>\n",
       "      <td>0.0</td>\n",
       "      <td>0.0</td>\n",
       "      <td>0.0</td>\n",
       "      <td>0.0</td>\n",
       "      <td>0.0</td>\n",
       "    </tr>\n",
       "    <tr>\n",
       "      <th>1</th>\n",
       "      <td>0.0</td>\n",
       "      <td>50.0</td>\n",
       "      <td>12.0</td>\n",
       "      <td>1.0</td>\n",
       "      <td>0.0</td>\n",
       "      <td>1.0</td>\n",
       "      <td>0.0</td>\n",
       "      <td>0.0</td>\n",
       "      <td>0.0</td>\n",
       "    </tr>\n",
       "    <tr>\n",
       "      <th>2</th>\n",
       "      <td>0.0</td>\n",
       "      <td>44.0</td>\n",
       "      <td>12.0</td>\n",
       "      <td>0.0</td>\n",
       "      <td>0.0</td>\n",
       "      <td>0.0</td>\n",
       "      <td>0.0</td>\n",
       "      <td>0.0</td>\n",
       "      <td>0.0</td>\n",
       "    </tr>\n",
       "  </tbody>\n",
       "</table>\n",
       "</div>"
      ],
      "text/plain": [
       "   treat   age  educ  black  hispan  married  nodegree  re75  re78\n",
       "0    0.0  47.0  12.0    0.0     0.0      0.0       0.0   0.0   0.0\n",
       "1    0.0  50.0  12.0    1.0     0.0      1.0       0.0   0.0   0.0\n",
       "2    0.0  44.0  12.0    0.0     0.0      0.0       0.0   0.0   0.0"
      ]
     },
     "execution_count": 9,
     "metadata": {},
     "output_type": "execute_result"
    }
   ],
   "source": [
    "# Combine treatment from rct and controls from psid to general observational data\n",
    "obs_df = pd.concat([\n",
    "    psid_ctl[['treat', 'age', 'educ', 'black', 'hispan', 'married', 'nodegree', 're75', 're78']], \n",
    "    rct_trt])\n",
    "obs_df.head(3)"
   ]
  },
  {
   "attachments": {},
   "cell_type": "markdown",
   "metadata": {},
   "source": [
    "# RCT Dataset"
   ]
  },
  {
   "cell_type": "code",
   "execution_count": 10,
   "metadata": {},
   "outputs": [
    {
     "name": "stdout",
     "output_type": "stream",
     "text": [
      "treat\n",
      "0.0           NaN\n",
      "1.0    886.303731\n",
      "Name: re78, dtype: float64\n"
     ]
    },
    {
     "data": {
      "image/png": "[encoded data removed]",
      "text/plain": [
       "<Figure size 640x480 with 1 Axes>"
      ]
     },
     "metadata": {},
     "output_type": "display_data"
    }
   ],
   "source": [
    "sns.boxplot(rct_df, x='treat', y='re78')\n",
    "\n",
    "print(rct_df.groupby('treat')['re78'].mean().diff())"
   ]
  },
  {
   "cell_type": "code",
   "execution_count": 11,
   "metadata": {},
   "outputs": [
    {
     "data": {
      "text/html": [
       "<table class=\"simpletable\">\n",
       "<caption>OLS Regression Results</caption>\n",
       "<tr>\n",
       "  <th>Dep. Variable:</th>          <td>re78</td>       <th>  R-squared:         </th> <td>   0.005</td> \n",
       "</tr>\n",
       "<tr>\n",
       "  <th>Model:</th>                   <td>OLS</td>       <th>  Adj. R-squared:    </th> <td>   0.003</td> \n",
       "</tr>\n",
       "<tr>\n",
       "  <th>Method:</th>             <td>Least Squares</td>  <th>  F-statistic:       </th> <td>   3.525</td> \n",
       "</tr>\n",
       "<tr>\n",
       "  <th>Date:</th>             <td>Sat, 13 May 2023</td> <th>  Prob (F-statistic):</th>  <td>0.0609</td>  \n",
       "</tr>\n",
       "<tr>\n",
       "  <th>Time:</th>                 <td>21:27:03</td>     <th>  Log-Likelihood:    </th> <td> -7333.1</td> \n",
       "</tr>\n",
       "<tr>\n",
       "  <th>No. Observations:</th>      <td>   722</td>      <th>  AIC:               </th> <td>1.467e+04</td>\n",
       "</tr>\n",
       "<tr>\n",
       "  <th>Df Residuals:</th>          <td>   720</td>      <th>  BIC:               </th> <td>1.468e+04</td>\n",
       "</tr>\n",
       "<tr>\n",
       "  <th>Df Model:</th>              <td>     1</td>      <th>                     </th>     <td> </td>    \n",
       "</tr>\n",
       "<tr>\n",
       "  <th>Covariance Type:</th>      <td>nonrobust</td>    <th>                     </th>     <td> </td>    \n",
       "</tr>\n",
       "</table>\n",
       "<table class=\"simpletable\">\n",
       "<tr>\n",
       "      <td></td>         <th>coef</th>     <th>std err</th>      <th>t</th>      <th>P>|t|</th>  <th>[0.025</th>    <th>0.975]</th>  \n",
       "</tr>\n",
       "<tr>\n",
       "  <th>Intercept</th> <td> 5090.0483</td> <td>  302.783</td> <td>   16.811</td> <td> 0.000</td> <td> 4495.606</td> <td> 5684.491</td>\n",
       "</tr>\n",
       "<tr>\n",
       "  <th>treat</th>     <td>  886.3037</td> <td>  472.086</td> <td>    1.877</td> <td> 0.061</td> <td>  -40.526</td> <td> 1813.134</td>\n",
       "</tr>\n",
       "</table>\n",
       "<table class=\"simpletable\">\n",
       "<tr>\n",
       "  <th>Omnibus:</th>       <td>384.449</td> <th>  Durbin-Watson:     </th> <td>   1.982</td>\n",
       "</tr>\n",
       "<tr>\n",
       "  <th>Prob(Omnibus):</th> <td> 0.000</td>  <th>  Jarque-Bera (JB):  </th> <td>3767.287</td>\n",
       "</tr>\n",
       "<tr>\n",
       "  <th>Skew:</th>          <td> 2.195</td>  <th>  Prob(JB):          </th> <td>    0.00</td>\n",
       "</tr>\n",
       "<tr>\n",
       "  <th>Kurtosis:</th>      <td>13.294</td>  <th>  Cond. No.          </th> <td>    2.46</td>\n",
       "</tr>\n",
       "</table><br/><br/>Notes:<br/>[1] Standard Errors assume that the covariance matrix of the errors is correctly specified."
      ],
      "text/plain": [
       "<class 'statsmodels.iolib.summary.Summary'>\n",
       "\"\"\"\n",
       "                            OLS Regression Results                            \n",
       "==============================================================================\n",
       "Dep. Variable:                   re78   R-squared:                       0.005\n",
       "Model:                            OLS   Adj. R-squared:                  0.003\n",
       "Method:                 Least Squares   F-statistic:                     3.525\n",
       "Date:                Sat, 13 May 2023   Prob (F-statistic):             0.0609\n",
       "Time:                        21:27:03   Log-Likelihood:                -7333.1\n",
       "No. Observations:                 722   AIC:                         1.467e+04\n",
       "Df Residuals:                     720   BIC:                         1.468e+04\n",
       "Df Model:                           1                                         \n",
       "Covariance Type:            nonrobust                                         \n",
       "==============================================================================\n",
       "                 coef    std err          t      P>|t|      [0.025      0.975]\n",
       "------------------------------------------------------------------------------\n",
       "Intercept   5090.0483    302.783     16.811      0.000    4495.606    5684.491\n",
       "treat        886.3037    472.086      1.877      0.061     -40.526    1813.134\n",
       "==============================================================================\n",
       "Omnibus:                      384.449   Durbin-Watson:                   1.982\n",
       "Prob(Omnibus):                  0.000   Jarque-Bera (JB):             3767.287\n",
       "Skew:                           2.195   Prob(JB):                         0.00\n",
       "Kurtosis:                      13.294   Cond. No.                         2.46\n",
       "==============================================================================\n",
       "\n",
       "Notes:\n",
       "[1] Standard Errors assume that the covariance matrix of the errors is correctly specified.\n",
       "\"\"\""
      ]
     },
     "execution_count": 11,
     "metadata": {},
     "output_type": "execute_result"
    }
   ],
   "source": [
    "# formula = 're78 ~ treat + age + educ + black + hispan + married + nodegree + re75'\n",
    "formula = 're78 ~ treat'\n",
    "rct_model = smf.ols(formula, data=rct_df).fit()\n",
    "rct_model.summary()"
   ]
  },
  {
   "attachments": {},
   "cell_type": "markdown",
   "metadata": {},
   "source": [
    "The treatment effect is $886 with a p-value = 0.06 which is > 0.05, so not statistically significant."
   ]
  },
  {
   "attachments": {},
   "cell_type": "markdown",
   "metadata": {},
   "source": [
    "# Observational Dataset"
   ]
  },
  {
   "cell_type": "code",
   "execution_count": 12,
   "metadata": {},
   "outputs": [
    {
     "name": "stdout",
     "output_type": "stream",
     "text": [
      "treat\n",
      "0.0             NaN\n",
      "1.0   -13833.466224\n",
      "Name: re78, dtype: float64\n"
     ]
    },
    {
     "data": {
      "image/png": "[encoded data removed]",
      "text/plain": [
       "<Figure size 640x480 with 1 Axes>"
      ]
     },
     "metadata": {},
     "output_type": "display_data"
    }
   ],
   "source": [
    "sns.boxplot(obs_df, x='treat', y='re78')\n",
    "\n",
    "print(obs_df.groupby('treat')['re78'].mean().diff())"
   ]
  },
  {
   "attachments": {},
   "cell_type": "markdown",
   "metadata": {},
   "source": [
    "The control dataset (PSID) from now is biased in comparison to the treatment. The re78 from control is on average higher than treatment in the observational dataset.  If we estimated the ATE by difference of means, we would have a negative result: -$15,577."
   ]
  },
  {
   "cell_type": "code",
   "execution_count": 13,
   "metadata": {},
   "outputs": [
    {
     "data": {
      "text/plain": [
       "treat\n",
       "0.0    2871\n",
       "1.0     297\n",
       "Name: count, dtype: int64"
      ]
     },
     "execution_count": 13,
     "metadata": {},
     "output_type": "execute_result"
    }
   ],
   "source": [
    "obs_df['treat'].value_counts()"
   ]
  },
  {
   "attachments": {},
   "cell_type": "markdown",
   "metadata": {},
   "source": [
    "## A. OLS\n",
    "\n",
    "First run an OLS regressing on pre-experiment covariates."
   ]
  },
  {
   "cell_type": "code",
   "execution_count": 14,
   "metadata": {},
   "outputs": [
    {
     "data": {
      "text/html": [
       "<table class=\"simpletable\">\n",
       "<caption>OLS Regression Results</caption>\n",
       "<tr>\n",
       "  <th>Dep. Variable:</th>          <td>re78</td>       <th>  R-squared:         </th> <td>   0.067</td> \n",
       "</tr>\n",
       "<tr>\n",
       "  <th>Model:</th>                   <td>OLS</td>       <th>  Adj. R-squared:    </th> <td>   0.067</td> \n",
       "</tr>\n",
       "<tr>\n",
       "  <th>Method:</th>             <td>Least Squares</td>  <th>  F-statistic:       </th> <td>   228.2</td> \n",
       "</tr>\n",
       "<tr>\n",
       "  <th>Date:</th>             <td>Sat, 13 May 2023</td> <th>  Prob (F-statistic):</th> <td>7.71e-50</td> \n",
       "</tr>\n",
       "<tr>\n",
       "  <th>Time:</th>                 <td>21:27:09</td>     <th>  Log-Likelihood:    </th> <td> -34962.</td> \n",
       "</tr>\n",
       "<tr>\n",
       "  <th>No. Observations:</th>      <td>  3168</td>      <th>  AIC:               </th> <td>6.993e+04</td>\n",
       "</tr>\n",
       "<tr>\n",
       "  <th>Df Residuals:</th>          <td>  3166</td>      <th>  BIC:               </th> <td>6.994e+04</td>\n",
       "</tr>\n",
       "<tr>\n",
       "  <th>Df Model:</th>              <td>     1</td>      <th>                     </th>     <td> </td>    \n",
       "</tr>\n",
       "<tr>\n",
       "  <th>Covariance Type:</th>      <td>nonrobust</td>    <th>                     </th>     <td> </td>    \n",
       "</tr>\n",
       "</table>\n",
       "<table class=\"simpletable\">\n",
       "<tr>\n",
       "      <td></td>         <th>coef</th>     <th>std err</th>      <th>t</th>      <th>P>|t|</th>  <th>[0.025</th>    <th>0.975]</th>  \n",
       "</tr>\n",
       "<tr>\n",
       "  <th>Intercept</th> <td> 1.981e+04</td> <td>  280.387</td> <td>   70.652</td> <td> 0.000</td> <td> 1.93e+04</td> <td> 2.04e+04</td>\n",
       "</tr>\n",
       "<tr>\n",
       "  <th>treat</th>     <td>-1.383e+04</td> <td>  915.739</td> <td>  -15.106</td> <td> 0.000</td> <td>-1.56e+04</td> <td> -1.2e+04</td>\n",
       "</tr>\n",
       "</table>\n",
       "<table class=\"simpletable\">\n",
       "<tr>\n",
       "  <th>Omnibus:</th>       <td>833.651</td> <th>  Durbin-Watson:     </th> <td>   0.881</td>\n",
       "</tr>\n",
       "<tr>\n",
       "  <th>Prob(Omnibus):</th> <td> 0.000</td>  <th>  Jarque-Bera (JB):  </th> <td>3042.229</td>\n",
       "</tr>\n",
       "<tr>\n",
       "  <th>Skew:</th>          <td> 1.272</td>  <th>  Prob(JB):          </th> <td>    0.00</td>\n",
       "</tr>\n",
       "<tr>\n",
       "  <th>Kurtosis:</th>      <td> 7.071</td>  <th>  Cond. No.          </th> <td>    3.46</td>\n",
       "</tr>\n",
       "</table><br/><br/>Notes:<br/>[1] Standard Errors assume that the covariance matrix of the errors is correctly specified."
      ],
      "text/plain": [
       "<class 'statsmodels.iolib.summary.Summary'>\n",
       "\"\"\"\n",
       "                            OLS Regression Results                            \n",
       "==============================================================================\n",
       "Dep. Variable:                   re78   R-squared:                       0.067\n",
       "Model:                            OLS   Adj. R-squared:                  0.067\n",
       "Method:                 Least Squares   F-statistic:                     228.2\n",
       "Date:                Sat, 13 May 2023   Prob (F-statistic):           7.71e-50\n",
       "Time:                        21:27:09   Log-Likelihood:                -34962.\n",
       "No. Observations:                3168   AIC:                         6.993e+04\n",
       "Df Residuals:                    3166   BIC:                         6.994e+04\n",
       "Df Model:                           1                                         \n",
       "Covariance Type:            nonrobust                                         \n",
       "==============================================================================\n",
       "                 coef    std err          t      P>|t|      [0.025      0.975]\n",
       "------------------------------------------------------------------------------\n",
       "Intercept   1.981e+04    280.387     70.652      0.000    1.93e+04    2.04e+04\n",
       "treat      -1.383e+04    915.739    -15.106      0.000   -1.56e+04    -1.2e+04\n",
       "==============================================================================\n",
       "Omnibus:                      833.651   Durbin-Watson:                   0.881\n",
       "Prob(Omnibus):                  0.000   Jarque-Bera (JB):             3042.229\n",
       "Skew:                           1.272   Prob(JB):                         0.00\n",
       "Kurtosis:                       7.071   Cond. No.                         3.46\n",
       "==============================================================================\n",
       "\n",
       "Notes:\n",
       "[1] Standard Errors assume that the covariance matrix of the errors is correctly specified.\n",
       "\"\"\""
      ]
     },
     "execution_count": 14,
     "metadata": {},
     "output_type": "execute_result"
    }
   ],
   "source": [
    "formula = 're78 ~ treat'\n",
    "obs_ols = smf.ols(formula, data=obs_df).fit()\n",
    "obs_ols.summary()"
   ]
  },
  {
   "attachments": {},
   "cell_type": "markdown",
   "metadata": {},
   "source": [
    "The treatment effect is wrongly estimated in the observational dataset and suggests that training programs decreases an individual's income."
   ]
  },
  {
   "cell_type": "code",
   "execution_count": 15,
   "metadata": {},
   "outputs": [
    {
     "data": {
      "text/html": [
       "<table class=\"simpletable\">\n",
       "<caption>OLS Regression Results</caption>\n",
       "<tr>\n",
       "  <th>Dep. Variable:</th>          <td>re78</td>       <th>  R-squared:         </th> <td>   0.592</td> \n",
       "</tr>\n",
       "<tr>\n",
       "  <th>Model:</th>                   <td>OLS</td>       <th>  Adj. R-squared:    </th> <td>   0.591</td> \n",
       "</tr>\n",
       "<tr>\n",
       "  <th>Method:</th>             <td>Least Squares</td>  <th>  F-statistic:       </th> <td>   573.5</td> \n",
       "</tr>\n",
       "<tr>\n",
       "  <th>Date:</th>             <td>Sat, 13 May 2023</td> <th>  Prob (F-statistic):</th>  <td>  0.00</td>  \n",
       "</tr>\n",
       "<tr>\n",
       "  <th>Time:</th>                 <td>21:27:11</td>     <th>  Log-Likelihood:    </th> <td> -33651.</td> \n",
       "</tr>\n",
       "<tr>\n",
       "  <th>No. Observations:</th>      <td>  3168</td>      <th>  AIC:               </th> <td>6.732e+04</td>\n",
       "</tr>\n",
       "<tr>\n",
       "  <th>Df Residuals:</th>          <td>  3159</td>      <th>  BIC:               </th> <td>6.738e+04</td>\n",
       "</tr>\n",
       "<tr>\n",
       "  <th>Df Model:</th>              <td>     8</td>      <th>                     </th>     <td> </td>    \n",
       "</tr>\n",
       "<tr>\n",
       "  <th>Covariance Type:</th>      <td>nonrobust</td>    <th>                     </th>     <td> </td>    \n",
       "</tr>\n",
       "</table>\n",
       "<table class=\"simpletable\">\n",
       "<tr>\n",
       "      <td></td>         <th>coef</th>     <th>std err</th>      <th>t</th>      <th>P>|t|</th>  <th>[0.025</th>    <th>0.975]</th>  \n",
       "</tr>\n",
       "<tr>\n",
       "  <th>Intercept</th> <td> -165.4251</td> <td> 1543.480</td> <td>   -0.107</td> <td> 0.915</td> <td>-3191.749</td> <td> 2860.899</td>\n",
       "</tr>\n",
       "<tr>\n",
       "  <th>treat</th>     <td>-1036.3091</td> <td>  740.197</td> <td>   -1.400</td> <td> 0.162</td> <td>-2487.625</td> <td>  415.006</td>\n",
       "</tr>\n",
       "<tr>\n",
       "  <th>age</th>       <td>  -76.2741</td> <td>   18.476</td> <td>   -4.128</td> <td> 0.000</td> <td> -112.499</td> <td>  -40.049</td>\n",
       "</tr>\n",
       "<tr>\n",
       "  <th>educ</th>      <td>  628.7012</td> <td>   94.209</td> <td>    6.673</td> <td> 0.000</td> <td>  443.984</td> <td>  813.419</td>\n",
       "</tr>\n",
       "<tr>\n",
       "  <th>black</th>     <td> -721.5647</td> <td>  445.965</td> <td>   -1.618</td> <td> 0.106</td> <td>-1595.975</td> <td>  152.845</td>\n",
       "</tr>\n",
       "<tr>\n",
       "  <th>hispan</th>    <td> 1243.2887</td> <td>  889.742</td> <td>    1.397</td> <td> 0.162</td> <td> -501.241</td> <td> 2987.819</td>\n",
       "</tr>\n",
       "<tr>\n",
       "  <th>married</th>   <td> 1864.4523</td> <td>  509.711</td> <td>    3.658</td> <td> 0.000</td> <td>  865.054</td> <td> 2863.850</td>\n",
       "</tr>\n",
       "<tr>\n",
       "  <th>nodegree</th>  <td>  366.7269</td> <td>  578.576</td> <td>    0.634</td> <td> 0.526</td> <td> -767.696</td> <td> 1501.150</td>\n",
       "</tr>\n",
       "<tr>\n",
       "  <th>re75</th>      <td>    0.7858</td> <td>    0.015</td> <td>   53.056</td> <td> 0.000</td> <td>    0.757</td> <td>    0.815</td>\n",
       "</tr>\n",
       "</table>\n",
       "<table class=\"simpletable\">\n",
       "<tr>\n",
       "  <th>Omnibus:</th>       <td>1130.383</td> <th>  Durbin-Watson:     </th> <td>   1.824</td> \n",
       "</tr>\n",
       "<tr>\n",
       "  <th>Prob(Omnibus):</th>  <td> 0.000</td>  <th>  Jarque-Bera (JB):  </th> <td>24229.843</td>\n",
       "</tr>\n",
       "<tr>\n",
       "  <th>Skew:</th>           <td> 1.172</td>  <th>  Prob(JB):          </th> <td>    0.00</td> \n",
       "</tr>\n",
       "<tr>\n",
       "  <th>Kurtosis:</th>       <td>16.344</td>  <th>  Cond. No.          </th> <td>1.92e+05</td> \n",
       "</tr>\n",
       "</table><br/><br/>Notes:<br/>[1] Standard Errors assume that the covariance matrix of the errors is correctly specified.<br/>[2] The condition number is large, 1.92e+05. This might indicate that there are<br/>strong multicollinearity or other numerical problems."
      ],
      "text/plain": [
       "<class 'statsmodels.iolib.summary.Summary'>\n",
       "\"\"\"\n",
       "                            OLS Regression Results                            \n",
       "==============================================================================\n",
       "Dep. Variable:                   re78   R-squared:                       0.592\n",
       "Model:                            OLS   Adj. R-squared:                  0.591\n",
       "Method:                 Least Squares   F-statistic:                     573.5\n",
       "Date:                Sat, 13 May 2023   Prob (F-statistic):               0.00\n",
       "Time:                        21:27:11   Log-Likelihood:                -33651.\n",
       "No. Observations:                3168   AIC:                         6.732e+04\n",
       "Df Residuals:                    3159   BIC:                         6.738e+04\n",
       "Df Model:                           8                                         \n",
       "Covariance Type:            nonrobust                                         \n",
       "==============================================================================\n",
       "                 coef    std err          t      P>|t|      [0.025      0.975]\n",
       "------------------------------------------------------------------------------\n",
       "Intercept   -165.4251   1543.480     -0.107      0.915   -3191.749    2860.899\n",
       "treat      -1036.3091    740.197     -1.400      0.162   -2487.625     415.006\n",
       "age          -76.2741     18.476     -4.128      0.000    -112.499     -40.049\n",
       "educ         628.7012     94.209      6.673      0.000     443.984     813.419\n",
       "black       -721.5647    445.965     -1.618      0.106   -1595.975     152.845\n",
       "hispan      1243.2887    889.742      1.397      0.162    -501.241    2987.819\n",
       "married     1864.4523    509.711      3.658      0.000     865.054    2863.850\n",
       "nodegree     366.7269    578.576      0.634      0.526    -767.696    1501.150\n",
       "re75           0.7858      0.015     53.056      0.000       0.757       0.815\n",
       "==============================================================================\n",
       "Omnibus:                     1130.383   Durbin-Watson:                   1.824\n",
       "Prob(Omnibus):                  0.000   Jarque-Bera (JB):            24229.843\n",
       "Skew:                           1.172   Prob(JB):                         0.00\n",
       "Kurtosis:                      16.344   Cond. No.                     1.92e+05\n",
       "==============================================================================\n",
       "\n",
       "Notes:\n",
       "[1] Standard Errors assume that the covariance matrix of the errors is correctly specified.\n",
       "[2] The condition number is large, 1.92e+05. This might indicate that there are\n",
       "strong multicollinearity or other numerical problems.\n",
       "\"\"\""
      ]
     },
     "execution_count": 15,
     "metadata": {},
     "output_type": "execute_result"
    }
   ],
   "source": [
    "formula = 're78 ~ treat + age + educ + black + hispan + married + nodegree + re75'\n",
    "obs_ols = smf.ols(formula, data=obs_df).fit()\n",
    "obs_ols.summary()"
   ]
  },
  {
   "attachments": {},
   "cell_type": "markdown",
   "metadata": {},
   "source": [
    "Controlling for the covariates still results in a treatment effect estimated in the wrong direction still."
   ]
  },
  {
   "attachments": {},
   "cell_type": "markdown",
   "metadata": {},
   "source": [
    "# B. Linear Double ML - ATE "
   ]
  },
  {
   "cell_type": "code",
   "execution_count": 16,
   "metadata": {},
   "outputs": [
    {
     "data": {
      "text/html": [
       "<table class=\"simpletable\">\n",
       "<caption>OLS Regression Results</caption>\n",
       "<tr>\n",
       "  <th>Dep. Variable:</th>          <td>y_res</td>      <th>  R-squared:         </th> <td>   0.005</td> \n",
       "</tr>\n",
       "<tr>\n",
       "  <th>Model:</th>                   <td>OLS</td>       <th>  Adj. R-squared:    </th> <td>   0.005</td> \n",
       "</tr>\n",
       "<tr>\n",
       "  <th>Method:</th>             <td>Least Squares</td>  <th>  F-statistic:       </th> <td>   16.96</td> \n",
       "</tr>\n",
       "<tr>\n",
       "  <th>Date:</th>             <td>Sat, 13 May 2023</td> <th>  Prob (F-statistic):</th> <td>3.92e-05</td> \n",
       "</tr>\n",
       "<tr>\n",
       "  <th>Time:</th>                 <td>21:27:13</td>     <th>  Log-Likelihood:    </th> <td> -33952.</td> \n",
       "</tr>\n",
       "<tr>\n",
       "  <th>No. Observations:</th>      <td>  3168</td>      <th>  AIC:               </th> <td>6.791e+04</td>\n",
       "</tr>\n",
       "<tr>\n",
       "  <th>Df Residuals:</th>          <td>  3166</td>      <th>  BIC:               </th> <td>6.792e+04</td>\n",
       "</tr>\n",
       "<tr>\n",
       "  <th>Df Model:</th>              <td>     1</td>      <th>                     </th>     <td> </td>    \n",
       "</tr>\n",
       "<tr>\n",
       "  <th>Covariance Type:</th>      <td>nonrobust</td>    <th>                     </th>     <td> </td>    \n",
       "</tr>\n",
       "</table>\n",
       "<table class=\"simpletable\">\n",
       "<tr>\n",
       "      <td></td>         <th>coef</th>     <th>std err</th>      <th>t</th>      <th>P>|t|</th>  <th>[0.025</th>    <th>0.975]</th>  \n",
       "</tr>\n",
       "<tr>\n",
       "  <th>Intercept</th> <td> 1055.1468</td> <td>  194.159</td> <td>    5.434</td> <td> 0.000</td> <td>  674.456</td> <td> 1435.838</td>\n",
       "</tr>\n",
       "<tr>\n",
       "  <th>d_res</th>     <td>-3083.4822</td> <td>  748.792</td> <td>   -4.118</td> <td> 0.000</td> <td>-4551.648</td> <td>-1615.316</td>\n",
       "</tr>\n",
       "</table>\n",
       "<table class=\"simpletable\">\n",
       "<tr>\n",
       "  <th>Omnibus:</th>       <td>1324.629</td> <th>  Durbin-Watson:     </th> <td>   1.584</td> \n",
       "</tr>\n",
       "<tr>\n",
       "  <th>Prob(Omnibus):</th>  <td> 0.000</td>  <th>  Jarque-Bera (JB):  </th> <td>18141.996</td>\n",
       "</tr>\n",
       "<tr>\n",
       "  <th>Skew:</th>           <td> 1.606</td>  <th>  Prob(JB):          </th> <td>    0.00</td> \n",
       "</tr>\n",
       "<tr>\n",
       "  <th>Kurtosis:</th>       <td>14.275</td>  <th>  Cond. No.          </th> <td>    3.86</td> \n",
       "</tr>\n",
       "</table><br/><br/>Notes:<br/>[1] Standard Errors assume that the covariance matrix of the errors is correctly specified."
      ],
      "text/plain": [
       "<class 'statsmodels.iolib.summary.Summary'>\n",
       "\"\"\"\n",
       "                            OLS Regression Results                            \n",
       "==============================================================================\n",
       "Dep. Variable:                  y_res   R-squared:                       0.005\n",
       "Model:                            OLS   Adj. R-squared:                  0.005\n",
       "Method:                 Least Squares   F-statistic:                     16.96\n",
       "Date:                Sat, 13 May 2023   Prob (F-statistic):           3.92e-05\n",
       "Time:                        21:27:13   Log-Likelihood:                -33952.\n",
       "No. Observations:                3168   AIC:                         6.791e+04\n",
       "Df Residuals:                    3166   BIC:                         6.792e+04\n",
       "Df Model:                           1                                         \n",
       "Covariance Type:            nonrobust                                         \n",
       "==============================================================================\n",
       "                 coef    std err          t      P>|t|      [0.025      0.975]\n",
       "------------------------------------------------------------------------------\n",
       "Intercept   1055.1468    194.159      5.434      0.000     674.456    1435.838\n",
       "d_res      -3083.4822    748.792     -4.118      0.000   -4551.648   -1615.316\n",
       "==============================================================================\n",
       "Omnibus:                     1324.629   Durbin-Watson:                   1.584\n",
       "Prob(Omnibus):                  0.000   Jarque-Bera (JB):            18141.996\n",
       "Skew:                           1.606   Prob(JB):                         0.00\n",
       "Kurtosis:                      14.275   Cond. No.                         3.86\n",
       "==============================================================================\n",
       "\n",
       "Notes:\n",
       "[1] Standard Errors assume that the covariance matrix of the errors is correctly specified.\n",
       "\"\"\""
      ]
     },
     "execution_count": 16,
     "metadata": {},
     "output_type": "execute_result"
    }
   ],
   "source": [
    "y = \"re78\"\n",
    "d = \"treat\"\n",
    "X = [\"age\", \"educ\", \"black\", \"hispan\", \"married\", \"nodegree\", \"re75\"]\n",
    "\n",
    "# Machine learning models\n",
    "debias_m = LGBMClassifier(max_depth=3, objective='binary')\n",
    "denoise_m = LGBMRegressor(max_depth=3)\n",
    "\n",
    "# Get residuals for y and T\n",
    "obs_dml_pred = obs_df.assign(\n",
    "    d_res =  obs_df[d] - cross_val_predict(debias_m, obs_df[X], obs_df[d], cv=5),\n",
    "    y_res =  obs_df[y] - cross_val_predict(denoise_m, obs_df[X], obs_df[y], cv=5)\n",
    ")\n",
    "\n",
    "# Predict the average treatment effect \n",
    "obs_dml_model = smf.ols(formula='y_res ~ d_res', data=obs_dml_pred).fit()\n",
    "obs_dml_model.summary()"
   ]
  },
  {
   "cell_type": "code",
   "execution_count": 27,
   "metadata": {},
   "outputs": [
    {
     "data": {
      "text/plain": [
       "-3969.785968346412"
      ]
     },
     "execution_count": 27,
     "metadata": {},
     "output_type": "execute_result"
    }
   ],
   "source": [
    "# Bias\n",
    "obs_dml_model.params['d_res'] - rct_model.params['treat']"
   ]
  },
  {
   "attachments": {},
   "cell_type": "markdown",
   "metadata": {},
   "source": [
    "# C. Double ML library"
   ]
  },
  {
   "cell_type": "code",
   "execution_count": 29,
   "metadata": {},
   "outputs": [],
   "source": [
    "from doubleml import DoubleMLData\n",
    "from doubleml import DoubleMLPLR"
   ]
  },
  {
   "cell_type": "code",
   "execution_count": 30,
   "metadata": {},
   "outputs": [],
   "source": [
    "dml_data_obj = DoubleMLData(obs_df, y_col=y, d_cols=d, x_cols=X)"
   ]
  },
  {
   "cell_type": "code",
   "execution_count": 31,
   "metadata": {},
   "outputs": [
    {
     "name": "stdout",
     "output_type": "stream",
     "text": [
      "================== DoubleMLPLR Object ==================\n",
      "\n",
      "------------------ Data summary      ------------------\n",
      "Outcome variable: re78\n",
      "Treatment variable(s): ['treat']\n",
      "Covariates: ['age', 'educ', 'black', 'hispan', 'married', 'nodegree', 're75']\n",
      "Instrument variable(s): None\n",
      "No. Observations: 3168\n",
      "\n",
      "------------------ Score & algorithm ------------------\n",
      "Score function: partialling out\n",
      "DML algorithm: dml2\n",
      "\n",
      "------------------ Machine learner   ------------------\n",
      "Learner ml_l: RandomForestRegressor(max_depth=7, max_features=3, min_samples_leaf=3,\n",
      "                      n_estimators=500)\n",
      "Learner ml_m: RandomForestClassifier(max_depth=5, max_features=3, min_samples_leaf=3,\n",
      "                       n_estimators=500)\n",
      "Out-of-sample Performance:\n",
      "Learner ml_l RMSE: [[9878.59283458]]\n",
      "Learner ml_m RMSE: [[0.20340558]]\n",
      "\n",
      "------------------ Resampling        ------------------\n",
      "No. folds: 3\n",
      "No. repeated sample splits: 1\n",
      "Apply cross-fitting: True\n",
      "\n",
      "------------------ Fit summary       ------------------\n",
      "             coef     std err         t    P>|t|       2.5 %       97.5 %\n",
      "treat -2727.99433  705.302848 -3.867834  0.00011 -4110.36251 -1345.626151\n"
     ]
    }
   ],
   "source": [
    "ml_g = RandomForestRegressor(n_estimators=500, max_depth=7, max_features=3, min_samples_leaf=3)\n",
    "ml_m = RandomForestClassifier(n_estimators=500, max_depth=5, max_features=3, min_samples_leaf=3)\n",
    "\n",
    "dml_plr = DoubleMLPLR(dml_data_obj, ml_g, ml_m, n_folds=3)\n",
    "dml_plr.fit(store_predictions=True)\n",
    "print(dml_plr)"
   ]
  },
  {
   "cell_type": "code",
   "execution_count": 35,
   "metadata": {},
   "outputs": [
    {
     "data": {
      "text/plain": [
       "array([-3614.29806093])"
      ]
     },
     "execution_count": 35,
     "metadata": {},
     "output_type": "execute_result"
    }
   ],
   "source": [
    "# Bias\n",
    "dml_plr.coef - rct_model.params['treat']"
   ]
  }
 ],
 "metadata": {
  "kernelspec": {
   "display_name": "py3.9",
   "language": "python",
   "name": "py3.9"
  },
  "language_info": {
   "codemirror_mode": {
    "name": "ipython",
    "version": 3
   },
   "file_extension": ".py",
   "mimetype": "text/x-python",
   "name": "python",
   "nbconvert_exporter": "python",
   "pygments_lexer": "ipython3",
   "version": "3.9.1"
  },
  "orig_nbformat": 4
 },
 "nbformat": 4,
 "nbformat_minor": 2
}
